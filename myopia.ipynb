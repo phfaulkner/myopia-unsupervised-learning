{
 "cells": [
  {
   "cell_type": "code",
   "execution_count": null,
   "id": "da9a74c8",
   "metadata": {},
   "outputs": [],
   "source": [
    "from pathlib import Path\n",
    "import pandas as pd\n",
    "from sklearn.decomposition import PCA\n",
    "from sklearn.manifold import TSNE\n",
    "from sklearn.cluster import KMeans\n",
    "import matplotlib.pyplot as plt"
   ]
  },
  {
   "cell_type": "code",
   "execution_count": null,
   "id": "edb590a9",
   "metadata": {},
   "outputs": [],
   "source": [
    "# Read file into DataFrame\n",
    "file = Path(\"myopia.csv\")\n",
    "myopia = pd.read_csv(file)\n",
    "myopia.head()"
   ]
  },
  {
   "cell_type": "code",
   "execution_count": null,
   "id": "2c4a4763",
   "metadata": {},
   "outputs": [],
   "source": [
    "# Drop our target (myopic) column in order to not bias the unsupervised learning model\n",
    "labels = myopia['MYOPIC']\n",
    "myopia.drop('MYOPIC', axis=1).head()"
   ]
  },
  {
   "cell_type": "code",
   "execution_count": null,
   "id": "e346d8ba",
   "metadata": {},
   "outputs": [],
   "source": [
    "# Standardize your dataset so that columns that contain larger values do not influence the outcome more than columns with smaller values.\n",
    "from sklearn.preprocessing import StandardScaler\n",
    "\n",
    "# standardize our data using scaler\n",
    "scaler = StandardScaler()\n",
    "myo_scaled = scaler.fit_transform(myopia)"
   ]
  },
  {
   "cell_type": "code",
   "execution_count": null,
   "id": "338ac6bd",
   "metadata": {},
   "outputs": [],
   "source": [
    "# Apply Dimensionality Reduction\n",
    "# 0.90 to preserve ~90% of explained variance\n",
    "pca = PCA(n_components=0.90)\n",
    "myo_pca = pca.fit_transform(myo_scaled)\n",
    "\n",
    "# PCA converted to dataframe\n",
    "df_myo_pca = pd.DataFrame(myo_pca)\n",
    "\n",
    "# print sum of explained variance ratio\n",
    "pca.explained_variance_ratio_.sum()"
   ]
  },
  {
   "cell_type": "code",
   "execution_count": null,
   "id": "31e66dcd",
   "metadata": {},
   "outputs": [],
   "source": [
    "# Run t-SNE model on our PCA output (df_myo_pca)\n",
    "tsne = TSNE(learning_rate=35)\n",
    "tsne_features = tsne.fit_transform(df_myo_pca)"
   ]
  },
  {
   "cell_type": "code",
   "execution_count": null,
   "id": "15f23e7e",
   "metadata": {},
   "outputs": [],
   "source": [
    "# shape of t-SNE model\n",
    "tsne_features.shape"
   ]
  },
  {
   "cell_type": "code",
   "execution_count": null,
   "id": "553823a1",
   "metadata": {},
   "outputs": [],
   "source": [
    "# Plot t-SNE output\n",
    "plt.scatter(tsne_features[:,0],tsne_features[:,1], c=labels)\n",
    "plt.show()"
   ]
  },
  {
   "cell_type": "code",
   "execution_count": null,
   "id": "43a8f80d",
   "metadata": {},
   "outputs": [],
   "source": [
    "There appears to be distinct clusters in the t-SNE plot\n",
    "\n",
    "# Perform a Cluster Analysis with K-means\n",
    "inertia = []\n",
    "k = list(range(1,11))\n",
    "\n",
    "# for-loop for elbow plot\n",
    "for i in k:\n",
    "    km = KMeans(n_clusters=i, random_state=0)\n",
    "    km.fit(df_myo_pca)\n",
    "    inertia.append(km.inertia_)\n",
    "elbow = {\"k\": k, \"inertia\": inertia}\n",
    "elbow_df = pd.DataFrame(elbow)\n",
    "\n",
    "# plot elbow data\n",
    "plt.plot(elbow_df['k'], elbow_df['inertia'])\n",
    "plt.xticks(k)\n",
    "plt.xlabel('Number of Clusters')\n",
    "plt.ylabel('Inertia')\n",
    "plt.show()"
   ]
  },
  {
   "cell_type": "code",
   "execution_count": null,
   "id": "8c44b82f",
   "metadata": {},
   "outputs": [],
   "source": [
    "# n_clusters from k=4 above\n",
    "model = KMeans(n_clusters=4, random_state=0)\n",
    "model.fit(df_myo_pca)\n",
    "pred = model.predict(df_myo_pca)\n",
    "df_myo_pca['predicted class'] = model.labels_\n",
    "df_myo_pca.head()"
   ]
  },
  {
   "cell_type": "code",
   "execution_count": null,
   "id": "c6d9d6b0",
   "metadata": {},
   "outputs": [],
   "source": [
    "# plot with n=4 clusters\n",
    "plt.scatter(df_myo_pca[0], df_myo_pca[1], c=df_myo_pca['predicted class'])\n",
    "plt.show()"
   ]
  },
  {
   "cell_type": "code",
   "execution_count": null,
   "id": "060526ad",
   "metadata": {},
   "outputs": [],
   "source": [
    "# plot looks to be clustered better with k=3, the elbow could be said to be at 3 as well\n",
    "model = KMeans(n_clusters=3, random_state=0)\n",
    "model.fit(df_myo_pca)\n",
    "pred = model.predict(df_myo_pca)\n",
    "df_myo_pca['predicted class'] = model.labels_\n",
    "plt.scatter(df_myo_pca[0], df_myo_pca[1], c=df_myo_pca['predicted class'])\n",
    "plt.show()"
   ]
  },
  {
   "cell_type": "markdown",
   "id": "a36ff421",
   "metadata": {},
   "source": [
    "##### Yes, the patients can be clustered. Three clusters seems to be the best fit for the model."
   ]
  }
 ],
 "metadata": {
  "kernelspec": {
   "display_name": "Python 3",
   "language": "python",
   "name": "python3"
  },
  "language_info": {
   "codemirror_mode": {
    "name": "ipython",
    "version": 3
   },
   "file_extension": ".py",
   "mimetype": "text/x-python",
   "name": "python",
   "nbconvert_exporter": "python",
   "pygments_lexer": "ipython3",
   "version": "3.6.10"
  }
 },
 "nbformat": 4,
 "nbformat_minor": 5
}
